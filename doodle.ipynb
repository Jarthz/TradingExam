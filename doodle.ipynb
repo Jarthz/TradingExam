{
 "cells": [
  {
   "cell_type": "code",
   "id": "initial_id",
   "metadata": {
    "collapsed": true,
    "ExecuteTime": {
     "end_time": "2024-12-27T17:11:16.575244Z",
     "start_time": "2024-12-27T17:11:16.572536Z"
    }
   },
   "source": "print(\"hello world\")",
   "outputs": [
    {
     "name": "stdout",
     "output_type": "stream",
     "text": [
      "hello world\n"
     ]
    }
   ],
   "execution_count": 12
  },
  {
   "metadata": {
    "ExecuteTime": {
     "end_time": "2024-12-27T17:11:19.445718Z",
     "start_time": "2024-12-27T17:11:19.442893Z"
    }
   },
   "cell_type": "code",
   "source": [
    "import sys\n",
    "sys.path.append('E:/PycharmProjects/TradingExam')"
   ],
   "id": "71c2d8b0e27d374e",
   "outputs": [],
   "execution_count": 13
  },
  {
   "metadata": {
    "ExecuteTime": {
     "end_time": "2024-12-27T13:07:34.507697Z",
     "start_time": "2024-12-27T13:07:34.494566Z"
    }
   },
   "cell_type": "code",
   "source": [
    "import optiver2023\n",
    "env = optiver2023.make_env()\n",
    "iter_test = env.iter_test()"
   ],
   "id": "5009959271e69b12",
   "outputs": [
    {
     "ename": "ModuleNotFoundError",
     "evalue": "No module named 'optiver2023.competition'",
     "output_type": "error",
     "traceback": [
      "\u001B[1;31m---------------------------------------------------------------------------\u001B[0m",
      "\u001B[1;31mModuleNotFoundError\u001B[0m                       Traceback (most recent call last)",
      "Cell \u001B[1;32mIn[9], line 1\u001B[0m\n\u001B[1;32m----> 1\u001B[0m \u001B[38;5;28;01mimport\u001B[39;00m \u001B[38;5;21;01moptiver2023\u001B[39;00m\n\u001B[0;32m      2\u001B[0m env \u001B[38;5;241m=\u001B[39m optiver2023\u001B[38;5;241m.\u001B[39mmake_env()\n\u001B[0;32m      3\u001B[0m iter_test \u001B[38;5;241m=\u001B[39m env\u001B[38;5;241m.\u001B[39miter_test()\n",
      "File \u001B[1;32mE:\\PycharmProjects\\TradingExam\\optiver2023\\__init__.py:2\u001B[0m\n\u001B[1;32m----> 2\u001B[0m \u001B[38;5;28;01mfrom\u001B[39;00m \u001B[38;5;21;01m.\u001B[39;00m\u001B[38;5;21;01mcompetition\u001B[39;00m \u001B[38;5;28;01mimport\u001B[39;00m make_env\n\u001B[0;32m      4\u001B[0m __all__ \u001B[38;5;241m=\u001B[39m [\u001B[38;5;124m'\u001B[39m\u001B[38;5;124mmake_env\u001B[39m\u001B[38;5;124m'\u001B[39m]\n",
      "\u001B[1;31mModuleNotFoundError\u001B[0m: No module named 'optiver2023.competition'"
     ]
    }
   ],
   "execution_count": 9
  },
  {
   "metadata": {
    "ExecuteTime": {
     "end_time": "2024-12-28T12:52:32.670873Z",
     "start_time": "2024-12-28T12:52:32.665246Z"
    }
   },
   "cell_type": "code",
   "source": [
    "r = range(0,8,1)\n",
    "r"
   ],
   "id": "8caaaad5fcb4d022",
   "outputs": [
    {
     "data": {
      "text/plain": [
       "range(0, 8)"
      ]
     },
     "execution_count": 1,
     "metadata": {},
     "output_type": "execute_result"
    }
   ],
   "execution_count": 1
  },
  {
   "metadata": {
    "ExecuteTime": {
     "end_time": "2024-12-28T12:52:52.133592Z",
     "start_time": "2024-12-28T12:52:52.130891Z"
    }
   },
   "cell_type": "code",
   "source": "print(r)",
   "id": "719d5e8789f7ee83",
   "outputs": [
    {
     "name": "stdout",
     "output_type": "stream",
     "text": [
      "range(0, 8)\n"
     ]
    }
   ],
   "execution_count": 2
  },
  {
   "metadata": {
    "ExecuteTime": {
     "end_time": "2024-12-28T12:53:08.841450Z",
     "start_time": "2024-12-28T12:53:08.838685Z"
    }
   },
   "cell_type": "code",
   "source": [
    "for i in r:\n",
    "    print(i)"
   ],
   "id": "6797bc2d77ba8289",
   "outputs": [
    {
     "name": "stdout",
     "output_type": "stream",
     "text": [
      "0\n",
      "1\n",
      "2\n",
      "3\n",
      "4\n",
      "5\n",
      "6\n",
      "7\n"
     ]
    }
   ],
   "execution_count": 3
  },
  {
   "metadata": {
    "ExecuteTime": {
     "end_time": "2024-12-28T13:17:54.063160Z",
     "start_time": "2024-12-28T13:17:53.712163Z"
    }
   },
   "cell_type": "code",
   "source": "import numpy as np\n",
   "id": "9c5776aed702e74b",
   "outputs": [],
   "execution_count": 4
  },
  {
   "metadata": {
    "ExecuteTime": {
     "end_time": "2024-12-28T13:18:20.771090Z",
     "start_time": "2024-12-28T13:18:20.767280Z"
    }
   },
   "cell_type": "code",
   "source": [
    "a = np.array([1,2,3,4,5])\n",
    "b = np.array([1,2,3,4,5])\n",
    "print(a,b)"
   ],
   "id": "b14dbfedd208eaa2",
   "outputs": [
    {
     "name": "stdout",
     "output_type": "stream",
     "text": [
      "[1 2 3 4 5] [1 2 3 4 5]\n"
     ]
    }
   ],
   "execution_count": 5
  },
  {
   "metadata": {
    "ExecuteTime": {
     "end_time": "2024-12-28T13:18:29.937977Z",
     "start_time": "2024-12-28T13:18:29.935124Z"
    }
   },
   "cell_type": "code",
   "source": [
    "c = a*b\n",
    "print(c)"
   ],
   "id": "1fe97a6b0a1f2ab2",
   "outputs": [
    {
     "name": "stdout",
     "output_type": "stream",
     "text": [
      "[ 1  4  9 16 25]\n"
     ]
    }
   ],
   "execution_count": 6
  },
  {
   "metadata": {
    "ExecuteTime": {
     "end_time": "2024-12-28T13:18:47.685702Z",
     "start_time": "2024-12-28T13:18:47.682265Z"
    }
   },
   "cell_type": "code",
   "source": "c.dtype",
   "id": "91fa59c527e119cd",
   "outputs": [
    {
     "data": {
      "text/plain": [
       "dtype('int64')"
      ]
     },
     "execution_count": 7,
     "metadata": {},
     "output_type": "execute_result"
    }
   ],
   "execution_count": 7
  },
  {
   "metadata": {
    "ExecuteTime": {
     "end_time": "2024-12-28T13:18:53.658344Z",
     "start_time": "2024-12-28T13:18:53.654923Z"
    }
   },
   "cell_type": "code",
   "source": "a.dtype",
   "id": "54e3e9f05dc0619",
   "outputs": [
    {
     "data": {
      "text/plain": [
       "dtype('int64')"
      ]
     },
     "execution_count": 8,
     "metadata": {},
     "output_type": "execute_result"
    }
   ],
   "execution_count": 8
  },
  {
   "metadata": {
    "ExecuteTime": {
     "end_time": "2024-12-28T13:19:09.496944Z",
     "start_time": "2024-12-28T13:19:09.494172Z"
    }
   },
   "cell_type": "code",
   "source": "print(type(a), type(c))",
   "id": "5c5b86dc45ee3186",
   "outputs": [
    {
     "name": "stdout",
     "output_type": "stream",
     "text": [
      "<class 'numpy.ndarray'> <class 'numpy.ndarray'>\n"
     ]
    }
   ],
   "execution_count": 9
  },
  {
   "metadata": {
    "ExecuteTime": {
     "end_time": "2024-12-28T13:19:22.497117Z",
     "start_time": "2024-12-28T13:19:22.494244Z"
    }
   },
   "cell_type": "code",
   "source": "print(a.sum())",
   "id": "89f255d61ed351f8",
   "outputs": [
    {
     "name": "stdout",
     "output_type": "stream",
     "text": [
      "15\n"
     ]
    }
   ],
   "execution_count": 10
  },
  {
   "metadata": {
    "ExecuteTime": {
     "end_time": "2024-12-28T13:24:37.401606Z",
     "start_time": "2024-12-28T13:24:37.399245Z"
    }
   },
   "cell_type": "code",
   "source": "c = np.zeros()",
   "id": "1c93dc88b09f1352",
   "outputs": [],
   "execution_count": 13
  },
  {
   "metadata": {
    "ExecuteTime": {
     "end_time": "2024-12-28T13:28:26.610471Z",
     "start_time": "2024-12-28T13:28:26.608415Z"
    }
   },
   "cell_type": "code",
   "source": "h = np.arange(0,15,1)",
   "id": "ae936a209ea6d06a",
   "outputs": [],
   "execution_count": 17
  },
  {
   "metadata": {
    "ExecuteTime": {
     "end_time": "2024-12-28T13:28:26.754097Z",
     "start_time": "2024-12-28T13:28:26.750797Z"
    }
   },
   "cell_type": "code",
   "source": "h",
   "id": "4f51b04a6ca37173",
   "outputs": [
    {
     "data": {
      "text/plain": [
       "array([ 0,  1,  2,  3,  4,  5,  6,  7,  8,  9, 10, 11, 12, 13, 14])"
      ]
     },
     "execution_count": 18,
     "metadata": {},
     "output_type": "execute_result"
    }
   ],
   "execution_count": 18
  },
  {
   "metadata": {
    "ExecuteTime": {
     "end_time": "2024-12-28T13:29:48.616911Z",
     "start_time": "2024-12-28T13:29:48.613858Z"
    }
   },
   "cell_type": "code",
   "source": [
    "h = h.reshape(5,3)\n",
    "print(h)"
   ],
   "id": "fac80eca38c0c001",
   "outputs": [
    {
     "name": "stdout",
     "output_type": "stream",
     "text": [
      "[[ 0  1  2]\n",
      " [ 3  4  5]\n",
      " [ 6  7  8]\n",
      " [ 9 10 11]\n",
      " [12 13 14]]\n"
     ]
    }
   ],
   "execution_count": 24
  },
  {
   "metadata": {
    "ExecuteTime": {
     "end_time": "2024-12-28T13:30:24.652862Z",
     "start_time": "2024-12-28T13:30:24.649312Z"
    }
   },
   "cell_type": "code",
   "source": "h > 8",
   "id": "df0268f042ec162d",
   "outputs": [
    {
     "data": {
      "text/plain": [
       "array([[False, False, False],\n",
       "       [False, False, False],\n",
       "       [False, False, False],\n",
       "       [ True,  True,  True],\n",
       "       [ True,  True,  True]])"
      ]
     },
     "execution_count": 25,
     "metadata": {},
     "output_type": "execute_result"
    }
   ],
   "execution_count": 25
  },
  {
   "metadata": {},
   "cell_type": "code",
   "outputs": [],
   "execution_count": null,
   "source": "",
   "id": "8185a97a1f73ad87"
  }
 ],
 "metadata": {
  "kernelspec": {
   "display_name": "Python 3",
   "language": "python",
   "name": "python3"
  },
  "language_info": {
   "codemirror_mode": {
    "name": "ipython",
    "version": 2
   },
   "file_extension": ".py",
   "mimetype": "text/x-python",
   "name": "python",
   "nbconvert_exporter": "python",
   "pygments_lexer": "ipython2",
   "version": "2.7.6"
  }
 },
 "nbformat": 4,
 "nbformat_minor": 5
}
